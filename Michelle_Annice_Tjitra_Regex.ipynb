{
  "nbformat": 4,
  "nbformat_minor": 0,
  "metadata": {
    "colab": {
      "name": "Michelle Annice Tjitra_Regex.ipynb",
      "provenance": [],
      "collapsed_sections": []
    },
    "kernelspec": {
      "name": "python3",
      "display_name": "Python 3"
    },
    "language_info": {
      "name": "python"
    }
  },
  "cells": [
    {
      "cell_type": "markdown",
      "metadata": {
        "id": "4vo0N0iKp32y"
      },
      "source": [
        "## Activity\n",
        "**TEXT:**\n",
        "> Halo semua, namaku Andy Joe. Kemarin smartphoneku mendapat SMS tagihan Pinjaman Online dari nomor 08004398499. Selain itu emailku juga mendapatkan pesan serupa dari debtcollector@pinjolninuninu.com. Ternyata salah satu temanku menjadikan nomor telepon dan emailku sebagai penanggungjawab pinjaman onlinenya :(. Tak lama sosok pria berbadan bongsor datang ke rumahku dengan menggunakan mogenya. Ia menanyakan keberadaan temanku yang meminjam uang di perusahaan Pinjol tersebut. Aku yang tak tahu keberadaannya pun menjawab apa adanya. Tak lama kemudian pria tersebut pergi dan segera kuambil gambar mogenya dengan  plat PO 3030 AY. Setelah itu aku menghubungi temanku dan meminta penjelasan kepadanya.\n",
        ">\n",
        "---\n",
        "### 1. Buatlah format pesan kepada teman Andy Joe untuk meminta penjelasan terkait dengan situasi yang sedang terjadi. (ganti teks yang cetak miring dan tebal menjadi nomor debtcollector, email debtcollector dan plat nomor)\n",
        ">\n",
        "\n",
        "**Format Pesan:**\n",
        "> \"*Halo xxxxx, Aku tadi habis didatangi debtcollector. Dia mengirimiku pesan lewat nomornya yaitu **nomor_debtcollector** dan email **email_debtcollector**. Dia bilang kamu jadiin nomorku dan emailku sebagai penanggungjawab. Bisa tolong jelasin? Terus aku tadi juga sempet foto motor yg dipake mas debtcollector. Plat nomornya **plat_nomor_debtcollector**.*\"\n",
        "\n",
        "\n",
        "### 2. Buatlah preprocessing sederhana dengan menghilangkan karakter titik, koma dan tanda tanya dari format pesan yang sudah dibuat (Di nomor 1)"
      ]
    },
    {
      "cell_type": "code",
      "metadata": {
        "id": "3IkaM-s9OA2y"
      },
      "source": [
        "import re\n",
        "\n",
        "txt = 'Halo semua, namaku Andy Joe. Kemarin smartphoneku mendapat SMS tagihan Pinjaman Online dari nomor 08004398499. Selain itu emailku juga mendapatkan pesan serupa dari debtcollector@pinjolninuninu.com. Ternyata salah satu temanku menjadikan nomor telepon dan emailku sebagai penanggungjawab pinjaman onlinenya :(. Tak lama sosok pria berbadan bongsor datang ke rumahku dengan menggunakan mogenya. Ia menanyakan keberadaan temanku yang meminjam uang di perusahaan Pinjol tersebut. Aku yang tak tahu keberadaannya pun menjawab apa adanya. Tak lama kemudian pria tersebut pergi dan segera kuambil gambar mogenya dengan plat PO 3030 AY. Setelah itu aku menghubungi temanku dan meminta penjelasan kepadanya.'"
      ],
      "execution_count": 29,
      "outputs": []
    },
    {
      "cell_type": "code",
      "metadata": {
        "id": "6DDAwznaRQSf"
      },
      "source": [
        "email_pattern = re.compile(r'[a-zA-Z0-9]+@[a-zA-Z]+\\.[a-zA-Z]{2,4}')"
      ],
      "execution_count": 30,
      "outputs": []
    },
    {
      "cell_type": "code",
      "metadata": {
        "id": "3Hrf10SrQad2"
      },
      "source": [
        "phone_pattern = re.compile(r'\\d{3}[-\\.\\s]??\\d{3}[-\\.\\s]??\\d{4,6}|\\(\\d{3}\\)\\s*\\d{3}[-\\.\\s]??\\d{4,6}|\\d{3,4}[-\\.\\s]??\\d{4,6}')"
      ],
      "execution_count": 31,
      "outputs": []
    },
    {
      "cell_type": "code",
      "metadata": {
        "id": "RDRV3QV_QqaH"
      },
      "source": [
        "plat_pattern = re.compile(r'[A-Z]{1,2}\\s\\d{1,4}\\s[A-Z]{1,3}')"
      ],
      "execution_count": 32,
      "outputs": []
    },
    {
      "cell_type": "code",
      "metadata": {
        "id": "r1DGH10HPXEv"
      },
      "source": [
        "emails = re.findall(email_pattern, txt)[0]\n",
        "phone_numbers = re.findall(phone_pattern, txt)[0]\n",
        "plat_kendaraan = re.findall(plat_pattern, txt)[0]\n",
        "text = f'''Halo xxxxx, Aku tadi habis didatangi debtcollector. Dia mengirimiku pesan lewat nomornya yaitu {phone_numbers} dan email {emails}. Dia bilang kamu jadiin nomorku dan emailku sebagai penanggungjawab. Bisa tolong jelasin? Terus aku tadi juga sempet foto motor yg dipake mas debtcollector. Plat nomornya{plat_kendaraan}.'''"
      ],
      "execution_count": 34,
      "outputs": []
    },
    {
      "cell_type": "code",
      "metadata": {
        "colab": {
          "base_uri": "https://localhost:8080/"
        },
        "id": "-KZTx4YWeTrc",
        "outputId": "41e6fef7-d732-49b1-ab6e-665e78f6c603"
      },
      "source": [
        "preprocess = re.sub(r'[.,?]','', text)\n",
        "print(preprocess)"
      ],
      "execution_count": 35,
      "outputs": [
        {
          "output_type": "stream",
          "name": "stdout",
          "text": [
            "Halo xxxxx Aku tadi habis didatangi debtcollector Dia mengirimiku pesan lewat nomornya yaitu 08004398499 dan email debtcollector@pinjolninuninucom Dia bilang kamu jadiin nomorku dan emailku sebagai penanggungjawab Bisa tolong jelasin Terus aku tadi juga sempet foto motor yg dipake mas debtcollector Plat nomornyaPO 3030 AY\n"
          ]
        }
      ]
    }
  ]
}